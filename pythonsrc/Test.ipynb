{
 "cells": [
  {
   "cell_type": "code",
   "execution_count": 6,
   "metadata": {},
   "outputs": [],
   "source": [
    "import numpy as np\n",
    "import sympy as sy\n",
    "from numpy import linalg as LA\n"
   ]
  },
  {
   "cell_type": "code",
   "execution_count": 2,
   "metadata": {},
   "outputs": [],
   "source": [
    "A = np.random.rand(10, 2)"
   ]
  },
  {
   "cell_type": "code",
   "execution_count": 3,
   "metadata": {},
   "outputs": [],
   "source": [
    "Q = np.matmul(np.transpose(A), A)\n",
    "def calculate(x, Q):\n",
    "    xTx = np.matmul(np.transpose(x), x)\n",
    "    f_x = np.matmul(np.matmul(np.transpose(x), Q), x)/xTx\n",
    "    nabla_f = (2*x*f_x)/xTx - (np.matmul(2*Q, x))/xTx\n",
    "    return f_x, nabla_f"
   ]
  },
  {
   "cell_type": "code",
   "execution_count": 18,
   "metadata": {},
   "outputs": [],
   "source": [
    "f, g = calculate(np.array([1,1,1,1]), Q)"
   ]
  },
  {
   "cell_type": "code",
   "execution_count": 23,
   "metadata": {},
   "outputs": [
    {
     "data": {
      "text/plain": [
       "(m, m)"
      ]
     },
     "execution_count": 23,
     "metadata": {},
     "output_type": "execute_result"
    }
   ],
   "source": [
    "Q.shape\n"
   ]
  },
  {
   "cell_type": "code",
   "execution_count": 20,
   "metadata": {},
   "outputs": [
    {
     "data": {
      "text/plain": [
       "array([-0.02765815,  0.01451101,  0.33612695, -0.32297982])"
      ]
     },
     "execution_count": 20,
     "metadata": {},
     "output_type": "execute_result"
    }
   ],
   "source": []
  },
  {
   "cell_type": "code",
   "execution_count": 49,
   "metadata": {},
   "outputs": [],
   "source": [
    "from sympy import MatrixSymbol\n",
    "from sympy import *\n",
    "a, n, m = symbols('a n m')\n",
    "A = MatrixSymbol('A', 5, 3)\n",
    "x = MatrixSymbol('x', 3, 1)\n",
    "d = MatrixSymbol('d', 3, 1)\n",
    "Q = (A.T*A)"
   ]
  },
  {
   "cell_type": "code",
   "execution_count": 52,
   "metadata": {},
   "outputs": [
    {
     "data": {
      "text/plain": [
       "Matrix([\n",
       "[                         A[0, 0]**2 + A[1, 0]**2 + A[2, 0]**2 + A[3, 0]**2 + A[4, 0]**2, A[0, 0]*A[0, 1] + A[1, 0]*A[1, 1] + A[2, 0]*A[2, 1] + A[3, 0]*A[3, 1] + A[4, 0]*A[4, 1], A[0, 0]*A[0, 2] + A[1, 0]*A[1, 2] + A[2, 0]*A[2, 2] + A[3, 0]*A[3, 2] + A[4, 0]*A[4, 2]],\n",
       "[A[0, 0]*A[0, 1] + A[1, 0]*A[1, 1] + A[2, 0]*A[2, 1] + A[3, 0]*A[3, 1] + A[4, 0]*A[4, 1],                          A[0, 1]**2 + A[1, 1]**2 + A[2, 1]**2 + A[3, 1]**2 + A[4, 1]**2, A[0, 1]*A[0, 2] + A[1, 1]*A[1, 2] + A[2, 1]*A[2, 2] + A[3, 1]*A[3, 2] + A[4, 1]*A[4, 2]],\n",
       "[A[0, 0]*A[0, 2] + A[1, 0]*A[1, 2] + A[2, 0]*A[2, 2] + A[3, 0]*A[3, 2] + A[4, 0]*A[4, 2], A[0, 1]*A[0, 2] + A[1, 1]*A[1, 2] + A[2, 1]*A[2, 2] + A[3, 1]*A[3, 2] + A[4, 1]*A[4, 2],                          A[0, 2]**2 + A[1, 2]**2 + A[2, 2]**2 + A[3, 2]**2 + A[4, 2]**2]])"
      ]
     },
     "execution_count": 52,
     "metadata": {},
     "output_type": "execute_result"
    }
   ],
   "source": [
    "Q.as_explicit()"
   ]
  },
  {
   "cell_type": "code",
   "execution_count": 46,
   "metadata": {},
   "outputs": [
    {
     "data": {
      "text/plain": [
       "((-transpose(a))*d.T + x.T)*((-a)*d + x)"
      ]
     },
     "execution_count": 46,
     "metadata": {},
     "output_type": "execute_result"
    }
   ],
   "source": [
    "v.T*v"
   ]
  },
  {
   "cell_type": "code",
   "execution_count": 57,
   "metadata": {},
   "outputs": [],
   "source": [
    "phi = ((x - a*d)*((x-a*d).T*Q*(x-a*d)) - Q*(x-a*d)*((x-a*d).T*(x-a*d))).T*(d)"
   ]
  },
  {
   "cell_type": "code",
   "execution_count": 59,
   "metadata": {},
   "outputs": [
    {
     "data": {
      "text/plain": [
       "(((-transpose(a))*d.T + x.T)*A.T*A*((-a)*d + x)*((-transpose(a))*d.T + x.T) - ((-transpose(a))*d.T + x.T)*((-a)*d + x)*((-transpose(a))*d.T + x.T)*A.T*A)*d"
      ]
     },
     "execution_count": 59,
     "metadata": {},
     "output_type": "execute_result"
    }
   ],
   "source": [
    "phi"
   ]
  },
  {
   "cell_type": "code",
   "execution_count": 72,
   "metadata": {},
   "outputs": [
    {
     "data": {
      "text/plain": [
       "(((-transpose(a))*d.T + x.T)*A.T*A*((-a)*d + x)*((-transpose(a))*d.T + x.T) - ((-transpose(a))*d.T + x.T)*((-a)*d + x)*((-transpose(a))*d.T + x.T)*A.T*A)*d"
      ]
     },
     "execution_count": 72,
     "metadata": {},
     "output_type": "execute_result"
    }
   ],
   "source": [
    "simplify(simplify(phi))"
   ]
  },
  {
   "cell_type": "code",
   "execution_count": 2,
   "metadata": {},
   "outputs": [],
   "source": [
    "# qualche riga solo per trasformare il csv in quasi una tabella latex\n",
    "import pandas as pd\n",
    "import numpy as np\n",
    "df = pd.read_csv(\"CSVresult/MAtrixStat.csv\")\n",
    "a = df.values\n",
    "a = a[:, 1:]\n",
    "np.savetxt(\"mydata.csv\", a, delimiter=' & ', fmt='%2.2e', newline=' \\\\\\\\\\n')"
   ]
  },
  {
   "cell_type": "code",
   "execution_count": 8,
   "metadata": {},
   "outputs": [],
   "source": []
  },
  {
   "cell_type": "code",
   "execution_count": 15,
   "metadata": {},
   "outputs": [],
   "source": []
  },
  {
   "cell_type": "code",
   "execution_count": 26,
   "metadata": {},
   "outputs": [],
   "source": []
  },
  {
   "cell_type": "code",
   "execution_count": 27,
   "metadata": {},
   "outputs": [],
   "source": []
  }
 ],
 "metadata": {
  "kernelspec": {
   "display_name": "Python 3",
   "language": "python",
   "name": "python3"
  },
  "language_info": {
   "codemirror_mode": {
    "name": "ipython",
    "version": 3
   },
   "file_extension": ".py",
   "mimetype": "text/x-python",
   "name": "python",
   "nbconvert_exporter": "python",
   "pygments_lexer": "ipython3",
   "version": "3.6.7"
  }
 },
 "nbformat": 4,
 "nbformat_minor": 2
}
