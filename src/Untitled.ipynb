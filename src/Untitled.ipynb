{
 "cells": [
  {
   "cell_type": "code",
   "execution_count": 24,
   "metadata": {},
   "outputs": [],
   "source": [
    "import numpy as np\n",
    "import sympy as sy\n",
    "from numpy import linalg as LA\n"
   ]
  },
  {
   "cell_type": "code",
   "execution_count": 7,
   "metadata": {},
   "outputs": [],
   "source": [
    "A = np.random.rand(10, 4)"
   ]
  },
  {
   "cell_type": "code",
   "execution_count": 16,
   "metadata": {},
   "outputs": [],
   "source": [
    "Q = np.matmul(np.transpose(A), A)\n",
    "def calculate(x, Q):\n",
    "    xTx = np.matmul(np.transpose(x), x)\n",
    "    f_x = np.matmul(np.matmul(np.transpose(x), Q), x)/xTx\n",
    "    nabla_f = (2*x*f_x)/xTx - (np.matmul(2*Q, x))/xTx\n",
    "    return f_x, nabla_f"
   ]
  },
  {
   "cell_type": "code",
   "execution_count": 18,
   "metadata": {},
   "outputs": [],
   "source": [
    "f, g = calculate(np.array([1,1,1,1]), Q)"
   ]
  },
  {
   "cell_type": "code",
   "execution_count": 25,
   "metadata": {},
   "outputs": [
    {
     "data": {
      "text/plain": [
       "(array([7.35388927, 1.23965652, 0.5852192 , 0.45927148]),\n",
       " array([[ 0.50270537,  0.6061651 ,  0.48382788,  0.3817876 ],\n",
       "        [ 0.4973109 ,  0.37748792, -0.55953338, -0.54507535],\n",
       "        [ 0.44936846, -0.49731651,  0.5496386 , -0.49863984],\n",
       "        [ 0.5459278 , -0.4926896 , -0.38824012,  0.55541823]]))"
      ]
     },
     "execution_count": 25,
     "metadata": {},
     "output_type": "execute_result"
    }
   ],
   "source": [
    "LA.eig(Q)"
   ]
  },
  {
   "cell_type": "code",
   "execution_count": 20,
   "metadata": {},
   "outputs": [
    {
     "data": {
      "text/plain": [
       "array([-0.02765815,  0.01451101,  0.33612695, -0.32297982])"
      ]
     },
     "execution_count": 20,
     "metadata": {},
     "output_type": "execute_result"
    }
   ],
   "source": []
  },
  {
   "cell_type": "code",
   "execution_count": null,
   "metadata": {},
   "outputs": [],
   "source": []
  }
 ],
 "metadata": {
  "kernelspec": {
   "display_name": "Python 3",
   "language": "python",
   "name": "python3"
  },
  "language_info": {
   "codemirror_mode": {
    "name": "ipython",
    "version": 3
   },
   "file_extension": ".py",
   "mimetype": "text/x-python",
   "name": "python",
   "nbconvert_exporter": "python",
   "pygments_lexer": "ipython3",
   "version": "3.6.7"
  }
 },
 "nbformat": 4,
 "nbformat_minor": 2
}
